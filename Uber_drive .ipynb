{
 "cells": [
  {
   "cell_type": "markdown",
   "metadata": {},
   "source": [
    "<div align=\"center\"><h1> Case Study: Uber Drive </h1></div> \n",
    "\n",
    "## Case Background\n",
    "The project is based on the trips made by Uber drivers. Different aspects of the trip are analyzed by using different functions in Python. This project is basically based on EDA - Exploratory data analysis.\n",
    "\n",
    "## Skills \n",
    "- Python Functions \n",
    "- Data Interpretation\n",
    "\n",
    "## Libraries Used\n",
    "- Numpy\n",
    "- Pandas\n",
    "- MatPlot lib\n",
    "- Seaborn\n",
    "\n",
    "## Data Used \n",
    "https://www.kaggle.com/zusmani/uberdrives"
   ]
  },
  {
   "cell_type": "markdown",
   "metadata": {},
   "source": [
    "## 1) Load the necessary libraries. Import and load the dataset i.e, uber_drive"
   ]
  },
  {
   "cell_type": "code",
   "execution_count": 3,
   "metadata": {},
   "outputs": [],
   "source": [
    "import numpy as np\n",
    "import pandas as pd\n",
    "import matplotlib.pyplot as plt\n",
    "import seaborn as sns\n",
    "%matplotlib inline  \n",
    "# output is displayed in this juptyer notebook (inline dislay)"
   ]
  },
  {
   "cell_type": "code",
   "execution_count": 4,
   "metadata": {},
   "outputs": [],
   "source": [
    "# Get the Data\n",
    "\n",
    "uberdrive_df = pd.read_csv('uber_drive.csv')"
   ]
  },
  {
   "cell_type": "code",
   "execution_count": 5,
   "metadata": {},
   "outputs": [
    {
     "data": {
      "text/html": [
       "<div>\n",
       "<style scoped>\n",
       "    .dataframe tbody tr th:only-of-type {\n",
       "        vertical-align: middle;\n",
       "    }\n",
       "\n",
       "    .dataframe tbody tr th {\n",
       "        vertical-align: top;\n",
       "    }\n",
       "\n",
       "    .dataframe thead th {\n",
       "        text-align: right;\n",
       "    }\n",
       "</style>\n",
       "<table border=\"1\" class=\"dataframe\">\n",
       "  <thead>\n",
       "    <tr style=\"text-align: right;\">\n",
       "      <th></th>\n",
       "      <th>START_DATE*</th>\n",
       "      <th>END_DATE*</th>\n",
       "      <th>CATEGORY*</th>\n",
       "      <th>START*</th>\n",
       "      <th>STOP*</th>\n",
       "      <th>MILES*</th>\n",
       "      <th>PURPOSE*</th>\n",
       "    </tr>\n",
       "  </thead>\n",
       "  <tbody>\n",
       "    <tr>\n",
       "      <th>1146</th>\n",
       "      <td>12/30/2016 11:31</td>\n",
       "      <td>12/30/2016 11:56</td>\n",
       "      <td>Business</td>\n",
       "      <td>Karachi</td>\n",
       "      <td>Karachi</td>\n",
       "      <td>2.9</td>\n",
       "      <td>Errand/Supplies</td>\n",
       "    </tr>\n",
       "    <tr>\n",
       "      <th>1147</th>\n",
       "      <td>12/30/2016 15:41</td>\n",
       "      <td>12/30/2016 16:03</td>\n",
       "      <td>Business</td>\n",
       "      <td>Karachi</td>\n",
       "      <td>Karachi</td>\n",
       "      <td>4.6</td>\n",
       "      <td>Errand/Supplies</td>\n",
       "    </tr>\n",
       "    <tr>\n",
       "      <th>1148</th>\n",
       "      <td>12/30/2016 16:45</td>\n",
       "      <td>12/30/2016 17:08</td>\n",
       "      <td>Business</td>\n",
       "      <td>Karachi</td>\n",
       "      <td>Karachi</td>\n",
       "      <td>4.6</td>\n",
       "      <td>Meeting</td>\n",
       "    </tr>\n",
       "    <tr>\n",
       "      <th>1149</th>\n",
       "      <td>12/30/2016 23:06</td>\n",
       "      <td>12/30/2016 23:10</td>\n",
       "      <td>Business</td>\n",
       "      <td>Karachi</td>\n",
       "      <td>Karachi</td>\n",
       "      <td>0.8</td>\n",
       "      <td>Customer Visit</td>\n",
       "    </tr>\n",
       "    <tr>\n",
       "      <th>1150</th>\n",
       "      <td>12/31/2016 1:07</td>\n",
       "      <td>12/31/2016 1:14</td>\n",
       "      <td>Business</td>\n",
       "      <td>Karachi</td>\n",
       "      <td>Karachi</td>\n",
       "      <td>0.7</td>\n",
       "      <td>Meeting</td>\n",
       "    </tr>\n",
       "    <tr>\n",
       "      <th>1151</th>\n",
       "      <td>12/31/2016 13:24</td>\n",
       "      <td>12/31/2016 13:42</td>\n",
       "      <td>Business</td>\n",
       "      <td>Karachi</td>\n",
       "      <td>Unknown Location</td>\n",
       "      <td>3.9</td>\n",
       "      <td>Temporary Site</td>\n",
       "    </tr>\n",
       "    <tr>\n",
       "      <th>1152</th>\n",
       "      <td>12/31/2016 15:03</td>\n",
       "      <td>12/31/2016 15:38</td>\n",
       "      <td>Business</td>\n",
       "      <td>Unknown Location</td>\n",
       "      <td>Unknown Location</td>\n",
       "      <td>16.2</td>\n",
       "      <td>Meeting</td>\n",
       "    </tr>\n",
       "    <tr>\n",
       "      <th>1153</th>\n",
       "      <td>12/31/2016 21:32</td>\n",
       "      <td>12/31/2016 21:50</td>\n",
       "      <td>Business</td>\n",
       "      <td>Katunayake</td>\n",
       "      <td>Gampaha</td>\n",
       "      <td>6.4</td>\n",
       "      <td>Temporary Site</td>\n",
       "    </tr>\n",
       "    <tr>\n",
       "      <th>1154</th>\n",
       "      <td>12/31/2016 22:08</td>\n",
       "      <td>12/31/2016 23:51</td>\n",
       "      <td>Business</td>\n",
       "      <td>Gampaha</td>\n",
       "      <td>Ilukwatta</td>\n",
       "      <td>48.2</td>\n",
       "      <td>Temporary Site</td>\n",
       "    </tr>\n",
       "    <tr>\n",
       "      <th>1155</th>\n",
       "      <td>Totals</td>\n",
       "      <td>NaN</td>\n",
       "      <td>NaN</td>\n",
       "      <td>NaN</td>\n",
       "      <td>NaN</td>\n",
       "      <td>12204.7</td>\n",
       "      <td>NaN</td>\n",
       "    </tr>\n",
       "  </tbody>\n",
       "</table>\n",
       "</div>"
      ],
      "text/plain": [
       "           START_DATE*         END_DATE* CATEGORY*            START*  \\\n",
       "1146  12/30/2016 11:31  12/30/2016 11:56  Business           Karachi   \n",
       "1147  12/30/2016 15:41  12/30/2016 16:03  Business           Karachi   \n",
       "1148  12/30/2016 16:45  12/30/2016 17:08  Business           Karachi   \n",
       "1149  12/30/2016 23:06  12/30/2016 23:10  Business           Karachi   \n",
       "1150   12/31/2016 1:07   12/31/2016 1:14  Business           Karachi   \n",
       "1151  12/31/2016 13:24  12/31/2016 13:42  Business           Karachi   \n",
       "1152  12/31/2016 15:03  12/31/2016 15:38  Business  Unknown Location   \n",
       "1153  12/31/2016 21:32  12/31/2016 21:50  Business        Katunayake   \n",
       "1154  12/31/2016 22:08  12/31/2016 23:51  Business           Gampaha   \n",
       "1155            Totals               NaN       NaN               NaN   \n",
       "\n",
       "                 STOP*   MILES*         PURPOSE*  \n",
       "1146           Karachi      2.9  Errand/Supplies  \n",
       "1147           Karachi      4.6  Errand/Supplies  \n",
       "1148           Karachi      4.6          Meeting  \n",
       "1149           Karachi      0.8   Customer Visit  \n",
       "1150           Karachi      0.7          Meeting  \n",
       "1151  Unknown Location      3.9   Temporary Site  \n",
       "1152  Unknown Location     16.2          Meeting  \n",
       "1153           Gampaha      6.4   Temporary Site  \n",
       "1154         Ilukwatta     48.2   Temporary Site  \n",
       "1155               NaN  12204.7              NaN  "
      ]
     },
     "execution_count": 5,
     "metadata": {},
     "output_type": "execute_result"
    }
   ],
   "source": [
    "# This code shows the last 10 records of the data\n",
    "uberdrive_df.tail(10)"
   ]
  },
  {
   "cell_type": "code",
   "execution_count": 6,
   "metadata": {},
   "outputs": [
    {
     "data": {
      "text/html": [
       "<div>\n",
       "<style scoped>\n",
       "    .dataframe tbody tr th:only-of-type {\n",
       "        vertical-align: middle;\n",
       "    }\n",
       "\n",
       "    .dataframe tbody tr th {\n",
       "        vertical-align: top;\n",
       "    }\n",
       "\n",
       "    .dataframe thead th {\n",
       "        text-align: right;\n",
       "    }\n",
       "</style>\n",
       "<table border=\"1\" class=\"dataframe\">\n",
       "  <thead>\n",
       "    <tr style=\"text-align: right;\">\n",
       "      <th></th>\n",
       "      <th>START_DATE*</th>\n",
       "      <th>END_DATE*</th>\n",
       "      <th>CATEGORY*</th>\n",
       "      <th>START*</th>\n",
       "      <th>STOP*</th>\n",
       "      <th>MILES*</th>\n",
       "      <th>PURPOSE*</th>\n",
       "    </tr>\n",
       "  </thead>\n",
       "  <tbody>\n",
       "    <tr>\n",
       "      <th>0</th>\n",
       "      <td>01/01/2016 21:11</td>\n",
       "      <td>01/01/2016 21:17</td>\n",
       "      <td>Business</td>\n",
       "      <td>Fort Pierce</td>\n",
       "      <td>Fort Pierce</td>\n",
       "      <td>5.1</td>\n",
       "      <td>Meal/Entertain</td>\n",
       "    </tr>\n",
       "    <tr>\n",
       "      <th>1</th>\n",
       "      <td>01/02/2016 01:25</td>\n",
       "      <td>01/02/2016 01:37</td>\n",
       "      <td>Business</td>\n",
       "      <td>Fort Pierce</td>\n",
       "      <td>Fort Pierce</td>\n",
       "      <td>5.0</td>\n",
       "      <td>NaN</td>\n",
       "    </tr>\n",
       "    <tr>\n",
       "      <th>2</th>\n",
       "      <td>01/02/2016 20:25</td>\n",
       "      <td>01/02/2016 20:38</td>\n",
       "      <td>Business</td>\n",
       "      <td>Fort Pierce</td>\n",
       "      <td>Fort Pierce</td>\n",
       "      <td>4.8</td>\n",
       "      <td>Errand/Supplies</td>\n",
       "    </tr>\n",
       "    <tr>\n",
       "      <th>3</th>\n",
       "      <td>01/05/2016 17:31</td>\n",
       "      <td>01/05/2016 17:45</td>\n",
       "      <td>Business</td>\n",
       "      <td>Fort Pierce</td>\n",
       "      <td>Fort Pierce</td>\n",
       "      <td>4.7</td>\n",
       "      <td>Meeting</td>\n",
       "    </tr>\n",
       "    <tr>\n",
       "      <th>4</th>\n",
       "      <td>01/06/2016 14:42</td>\n",
       "      <td>01/06/2016 15:49</td>\n",
       "      <td>Business</td>\n",
       "      <td>Fort Pierce</td>\n",
       "      <td>West Palm Beach</td>\n",
       "      <td>63.7</td>\n",
       "      <td>Customer Visit</td>\n",
       "    </tr>\n",
       "    <tr>\n",
       "      <th>5</th>\n",
       "      <td>01/06/2016 17:15</td>\n",
       "      <td>01/06/2016 17:19</td>\n",
       "      <td>Business</td>\n",
       "      <td>West Palm Beach</td>\n",
       "      <td>West Palm Beach</td>\n",
       "      <td>4.3</td>\n",
       "      <td>Meal/Entertain</td>\n",
       "    </tr>\n",
       "    <tr>\n",
       "      <th>6</th>\n",
       "      <td>01/06/2016 17:30</td>\n",
       "      <td>01/06/2016 17:35</td>\n",
       "      <td>Business</td>\n",
       "      <td>West Palm Beach</td>\n",
       "      <td>Palm Beach</td>\n",
       "      <td>7.1</td>\n",
       "      <td>Meeting</td>\n",
       "    </tr>\n",
       "    <tr>\n",
       "      <th>7</th>\n",
       "      <td>01/07/2016 13:27</td>\n",
       "      <td>01/07/2016 13:33</td>\n",
       "      <td>Business</td>\n",
       "      <td>Cary</td>\n",
       "      <td>Cary</td>\n",
       "      <td>0.8</td>\n",
       "      <td>Meeting</td>\n",
       "    </tr>\n",
       "    <tr>\n",
       "      <th>8</th>\n",
       "      <td>01/10/2016 08:05</td>\n",
       "      <td>01/10/2016 08:25</td>\n",
       "      <td>Business</td>\n",
       "      <td>Cary</td>\n",
       "      <td>Morrisville</td>\n",
       "      <td>8.3</td>\n",
       "      <td>Meeting</td>\n",
       "    </tr>\n",
       "    <tr>\n",
       "      <th>9</th>\n",
       "      <td>01/10/2016 12:17</td>\n",
       "      <td>01/10/2016 12:44</td>\n",
       "      <td>Business</td>\n",
       "      <td>Jamaica</td>\n",
       "      <td>New York</td>\n",
       "      <td>16.5</td>\n",
       "      <td>Customer Visit</td>\n",
       "    </tr>\n",
       "  </tbody>\n",
       "</table>\n",
       "</div>"
      ],
      "text/plain": [
       "        START_DATE*         END_DATE* CATEGORY*           START*  \\\n",
       "0  01/01/2016 21:11  01/01/2016 21:17  Business      Fort Pierce   \n",
       "1  01/02/2016 01:25  01/02/2016 01:37  Business      Fort Pierce   \n",
       "2  01/02/2016 20:25  01/02/2016 20:38  Business      Fort Pierce   \n",
       "3  01/05/2016 17:31  01/05/2016 17:45  Business      Fort Pierce   \n",
       "4  01/06/2016 14:42  01/06/2016 15:49  Business      Fort Pierce   \n",
       "5  01/06/2016 17:15  01/06/2016 17:19  Business  West Palm Beach   \n",
       "6  01/06/2016 17:30  01/06/2016 17:35  Business  West Palm Beach   \n",
       "7  01/07/2016 13:27  01/07/2016 13:33  Business             Cary   \n",
       "8  01/10/2016 08:05  01/10/2016 08:25  Business             Cary   \n",
       "9  01/10/2016 12:17  01/10/2016 12:44  Business          Jamaica   \n",
       "\n",
       "             STOP*  MILES*         PURPOSE*  \n",
       "0      Fort Pierce     5.1   Meal/Entertain  \n",
       "1      Fort Pierce     5.0              NaN  \n",
       "2      Fort Pierce     4.8  Errand/Supplies  \n",
       "3      Fort Pierce     4.7          Meeting  \n",
       "4  West Palm Beach    63.7   Customer Visit  \n",
       "5  West Palm Beach     4.3   Meal/Entertain  \n",
       "6       Palm Beach     7.1          Meeting  \n",
       "7             Cary     0.8          Meeting  \n",
       "8      Morrisville     8.3          Meeting  \n",
       "9         New York    16.5   Customer Visit  "
      ]
     },
     "execution_count": 6,
     "metadata": {},
     "output_type": "execute_result"
    }
   ],
   "source": [
    "# This code shows the last 10 records of the data\n",
    "uberdrive_df.head(10)"
   ]
  },
  {
   "cell_type": "code",
   "execution_count": 7,
   "metadata": {},
   "outputs": [
    {
     "data": {
      "text/plain": [
       "(1156, 7)"
      ]
     },
     "execution_count": 7,
     "metadata": {},
     "output_type": "execute_result"
    }
   ],
   "source": [
    "# This code shows the dimension(number of rows and columns) of the dataset\n",
    "uberdrive_df.shape"
   ]
  },
  {
   "cell_type": "code",
   "execution_count": 8,
   "metadata": {},
   "outputs": [
    {
     "data": {
      "text/plain": [
       "8092"
      ]
     },
     "execution_count": 8,
     "metadata": {},
     "output_type": "execute_result"
    }
   ],
   "source": [
    "#This code shows size (Total number of elements) of the dataset.\n",
    "uberdrive_df.size"
   ]
  },
  {
   "cell_type": "code",
   "execution_count": 9,
   "metadata": {
    "scrolled": true
   },
   "outputs": [
    {
     "name": "stdout",
     "output_type": "stream",
     "text": [
      "<class 'pandas.core.frame.DataFrame'>\n",
      "RangeIndex: 1156 entries, 0 to 1155\n",
      "Data columns (total 7 columns):\n",
      " #   Column       Non-Null Count  Dtype  \n",
      "---  ------       --------------  -----  \n",
      " 0   START_DATE*  1156 non-null   object \n",
      " 1   END_DATE*    1155 non-null   object \n",
      " 2   CATEGORY*    1155 non-null   object \n",
      " 3   START*       1155 non-null   object \n",
      " 4   STOP*        1155 non-null   object \n",
      " 5   MILES*       1156 non-null   float64\n",
      " 6   PURPOSE*     653 non-null    object \n",
      "dtypes: float64(1), object(6)\n",
      "memory usage: 63.3+ KB\n"
     ]
    }
   ],
   "source": [
    "#Print the information about all the variables of the data set.\n",
    "uberdrive_df.info()"
   ]
  },
  {
   "cell_type": "markdown",
   "metadata": {},
   "source": [
    "## 2) Check Missing/Null Values"
   ]
  },
  {
   "cell_type": "code",
   "execution_count": 10,
   "metadata": {},
   "outputs": [
    {
     "data": {
      "text/plain": [
       "True"
      ]
     },
     "execution_count": 10,
     "metadata": {},
     "output_type": "execute_result"
    }
   ],
   "source": [
    "#Check for missing values. (isnull will check whether we have missing values in the dataset and .values.any()will return an answer\n",
    "#with True or False)\n",
    "uberdrive_df.isnull().values.any()"
   ]
  },
  {
   "cell_type": "code",
   "execution_count": 11,
   "metadata": {},
   "outputs": [
    {
     "data": {
      "text/plain": [
       "507"
      ]
     },
     "execution_count": 11,
     "metadata": {},
     "output_type": "execute_result"
    }
   ],
   "source": [
    "#How many missing values are present? COunt the values\n",
    "uberdrive_df.isnull().values.sum()"
   ]
  },
  {
   "cell_type": "code",
   "execution_count": 12,
   "metadata": {},
   "outputs": [
    {
     "data": {
      "text/html": [
       "<div>\n",
       "<style scoped>\n",
       "    .dataframe tbody tr th:only-of-type {\n",
       "        vertical-align: middle;\n",
       "    }\n",
       "\n",
       "    .dataframe tbody tr th {\n",
       "        vertical-align: top;\n",
       "    }\n",
       "\n",
       "    .dataframe thead th {\n",
       "        text-align: right;\n",
       "    }\n",
       "</style>\n",
       "<table border=\"1\" class=\"dataframe\">\n",
       "  <thead>\n",
       "    <tr style=\"text-align: right;\">\n",
       "      <th></th>\n",
       "      <th>MILES*</th>\n",
       "    </tr>\n",
       "  </thead>\n",
       "  <tbody>\n",
       "    <tr>\n",
       "      <th>count</th>\n",
       "      <td>1156.000000</td>\n",
       "    </tr>\n",
       "    <tr>\n",
       "      <th>mean</th>\n",
       "      <td>21.115398</td>\n",
       "    </tr>\n",
       "    <tr>\n",
       "      <th>std</th>\n",
       "      <td>359.299007</td>\n",
       "    </tr>\n",
       "    <tr>\n",
       "      <th>min</th>\n",
       "      <td>0.500000</td>\n",
       "    </tr>\n",
       "    <tr>\n",
       "      <th>25%</th>\n",
       "      <td>2.900000</td>\n",
       "    </tr>\n",
       "    <tr>\n",
       "      <th>50%</th>\n",
       "      <td>6.000000</td>\n",
       "    </tr>\n",
       "    <tr>\n",
       "      <th>75%</th>\n",
       "      <td>10.400000</td>\n",
       "    </tr>\n",
       "    <tr>\n",
       "      <th>max</th>\n",
       "      <td>12204.700000</td>\n",
       "    </tr>\n",
       "  </tbody>\n",
       "</table>\n",
       "</div>"
      ],
      "text/plain": [
       "             MILES*\n",
       "count   1156.000000\n",
       "mean      21.115398\n",
       "std      359.299007\n",
       "min        0.500000\n",
       "25%        2.900000\n",
       "50%        6.000000\n",
       "75%       10.400000\n",
       "max    12204.700000"
      ]
     },
     "execution_count": 12,
     "metadata": {},
     "output_type": "execute_result"
    }
   ],
   "source": [
    "uberdrive_df.describe()"
   ]
  },
  {
   "cell_type": "code",
   "execution_count": 13,
   "metadata": {},
   "outputs": [
    {
     "data": {
      "text/plain": [
       "False"
      ]
     },
     "execution_count": 13,
     "metadata": {},
     "output_type": "execute_result"
    }
   ],
   "source": [
    "# Drop the missing values and store the data in a new dataframe (name it\"df\")\n",
    "df = uberdrive_df.dropna()\n",
    "df.isnull().values.any()"
   ]
  },
  {
   "cell_type": "code",
   "execution_count": 14,
   "metadata": {},
   "outputs": [
    {
     "data": {
      "text/html": [
       "<div>\n",
       "<style scoped>\n",
       "    .dataframe tbody tr th:only-of-type {\n",
       "        vertical-align: middle;\n",
       "    }\n",
       "\n",
       "    .dataframe tbody tr th {\n",
       "        vertical-align: top;\n",
       "    }\n",
       "\n",
       "    .dataframe thead th {\n",
       "        text-align: right;\n",
       "    }\n",
       "</style>\n",
       "<table border=\"1\" class=\"dataframe\">\n",
       "  <thead>\n",
       "    <tr style=\"text-align: right;\">\n",
       "      <th></th>\n",
       "      <th>START_DATE*</th>\n",
       "      <th>END_DATE*</th>\n",
       "      <th>CATEGORY*</th>\n",
       "      <th>START*</th>\n",
       "      <th>STOP*</th>\n",
       "      <th>MILES*</th>\n",
       "      <th>PURPOSE*</th>\n",
       "    </tr>\n",
       "  </thead>\n",
       "  <tbody>\n",
       "    <tr>\n",
       "      <th>0</th>\n",
       "      <td>01/01/2016 21:11</td>\n",
       "      <td>01/01/2016 21:17</td>\n",
       "      <td>Business</td>\n",
       "      <td>Fort Pierce</td>\n",
       "      <td>Fort Pierce</td>\n",
       "      <td>5.1</td>\n",
       "      <td>Meal/Entertain</td>\n",
       "    </tr>\n",
       "    <tr>\n",
       "      <th>2</th>\n",
       "      <td>01/02/2016 20:25</td>\n",
       "      <td>01/02/2016 20:38</td>\n",
       "      <td>Business</td>\n",
       "      <td>Fort Pierce</td>\n",
       "      <td>Fort Pierce</td>\n",
       "      <td>4.8</td>\n",
       "      <td>Errand/Supplies</td>\n",
       "    </tr>\n",
       "    <tr>\n",
       "      <th>3</th>\n",
       "      <td>01/05/2016 17:31</td>\n",
       "      <td>01/05/2016 17:45</td>\n",
       "      <td>Business</td>\n",
       "      <td>Fort Pierce</td>\n",
       "      <td>Fort Pierce</td>\n",
       "      <td>4.7</td>\n",
       "      <td>Meeting</td>\n",
       "    </tr>\n",
       "    <tr>\n",
       "      <th>4</th>\n",
       "      <td>01/06/2016 14:42</td>\n",
       "      <td>01/06/2016 15:49</td>\n",
       "      <td>Business</td>\n",
       "      <td>Fort Pierce</td>\n",
       "      <td>West Palm Beach</td>\n",
       "      <td>63.7</td>\n",
       "      <td>Customer Visit</td>\n",
       "    </tr>\n",
       "    <tr>\n",
       "      <th>5</th>\n",
       "      <td>01/06/2016 17:15</td>\n",
       "      <td>01/06/2016 17:19</td>\n",
       "      <td>Business</td>\n",
       "      <td>West Palm Beach</td>\n",
       "      <td>West Palm Beach</td>\n",
       "      <td>4.3</td>\n",
       "      <td>Meal/Entertain</td>\n",
       "    </tr>\n",
       "  </tbody>\n",
       "</table>\n",
       "</div>"
      ],
      "text/plain": [
       "        START_DATE*         END_DATE* CATEGORY*           START*  \\\n",
       "0  01/01/2016 21:11  01/01/2016 21:17  Business      Fort Pierce   \n",
       "2  01/02/2016 20:25  01/02/2016 20:38  Business      Fort Pierce   \n",
       "3  01/05/2016 17:31  01/05/2016 17:45  Business      Fort Pierce   \n",
       "4  01/06/2016 14:42  01/06/2016 15:49  Business      Fort Pierce   \n",
       "5  01/06/2016 17:15  01/06/2016 17:19  Business  West Palm Beach   \n",
       "\n",
       "             STOP*  MILES*         PURPOSE*  \n",
       "0      Fort Pierce     5.1   Meal/Entertain  \n",
       "2      Fort Pierce     4.8  Errand/Supplies  \n",
       "3      Fort Pierce     4.7          Meeting  \n",
       "4  West Palm Beach    63.7   Customer Visit  \n",
       "5  West Palm Beach     4.3   Meal/Entertain  "
      ]
     },
     "execution_count": 14,
     "metadata": {},
     "output_type": "execute_result"
    }
   ],
   "source": [
    "#check head\n",
    "df.head()"
   ]
  },
  {
   "cell_type": "code",
   "execution_count": 15,
   "metadata": {},
   "outputs": [
    {
     "name": "stdout",
     "output_type": "stream",
     "text": [
      "<class 'pandas.core.frame.DataFrame'>\n",
      "Int64Index: 653 entries, 0 to 1154\n",
      "Data columns (total 7 columns):\n",
      " #   Column       Non-Null Count  Dtype  \n",
      "---  ------       --------------  -----  \n",
      " 0   START_DATE*  653 non-null    object \n",
      " 1   END_DATE*    653 non-null    object \n",
      " 2   CATEGORY*    653 non-null    object \n",
      " 3   START*       653 non-null    object \n",
      " 4   STOP*        653 non-null    object \n",
      " 5   MILES*       653 non-null    float64\n",
      " 6   PURPOSE*     653 non-null    object \n",
      "dtypes: float64(1), object(6)\n",
      "memory usage: 40.8+ KB\n"
     ]
    }
   ],
   "source": [
    "#Check the information of the dataframe(df)\n",
    "df.info()"
   ]
  },
  {
   "cell_type": "code",
   "execution_count": 16,
   "metadata": {},
   "outputs": [
    {
     "data": {
      "text/html": [
       "<div>\n",
       "<style scoped>\n",
       "    .dataframe tbody tr th:only-of-type {\n",
       "        vertical-align: middle;\n",
       "    }\n",
       "\n",
       "    .dataframe tbody tr th {\n",
       "        vertical-align: top;\n",
       "    }\n",
       "\n",
       "    .dataframe thead th {\n",
       "        text-align: right;\n",
       "    }\n",
       "</style>\n",
       "<table border=\"1\" class=\"dataframe\">\n",
       "  <thead>\n",
       "    <tr style=\"text-align: right;\">\n",
       "      <th></th>\n",
       "      <th>MILES*</th>\n",
       "    </tr>\n",
       "  </thead>\n",
       "  <tbody>\n",
       "    <tr>\n",
       "      <th>count</th>\n",
       "      <td>653.000000</td>\n",
       "    </tr>\n",
       "    <tr>\n",
       "      <th>mean</th>\n",
       "      <td>11.196325</td>\n",
       "    </tr>\n",
       "    <tr>\n",
       "      <th>std</th>\n",
       "      <td>22.986429</td>\n",
       "    </tr>\n",
       "    <tr>\n",
       "      <th>min</th>\n",
       "      <td>0.500000</td>\n",
       "    </tr>\n",
       "    <tr>\n",
       "      <th>25%</th>\n",
       "      <td>3.200000</td>\n",
       "    </tr>\n",
       "    <tr>\n",
       "      <th>50%</th>\n",
       "      <td>6.400000</td>\n",
       "    </tr>\n",
       "    <tr>\n",
       "      <th>75%</th>\n",
       "      <td>10.400000</td>\n",
       "    </tr>\n",
       "    <tr>\n",
       "      <th>max</th>\n",
       "      <td>310.300000</td>\n",
       "    </tr>\n",
       "  </tbody>\n",
       "</table>\n",
       "</div>"
      ],
      "text/plain": [
       "           MILES*\n",
       "count  653.000000\n",
       "mean    11.196325\n",
       "std     22.986429\n",
       "min      0.500000\n",
       "25%      3.200000\n",
       "50%      6.400000\n",
       "75%     10.400000\n",
       "max    310.300000"
      ]
     },
     "execution_count": 16,
     "metadata": {},
     "output_type": "execute_result"
    }
   ],
   "source": [
    "#check the information of the new data frame after dropping NA values\n",
    "df.describe()"
   ]
  },
  {
   "cell_type": "markdown",
   "metadata": {},
   "source": [
    "# 3) Get the unique start destinations"
   ]
  },
  {
   "cell_type": "code",
   "execution_count": 17,
   "metadata": {},
   "outputs": [
    {
     "data": {
      "text/plain": [
       "array(['Fort Pierce', 'West Palm Beach', 'Cary', 'Jamaica', 'New York',\n",
       "       'Elmhurst', 'Midtown', 'East Harlem', 'Flatiron District',\n",
       "       'Midtown East', 'Hudson Square', 'Lower Manhattan',\n",
       "       \"Hell's Kitchen\", 'Downtown', 'Gulfton', 'Houston', 'Eagan Park',\n",
       "       'Morrisville', 'Durham', 'Farmington Woods', 'Whitebridge',\n",
       "       'Lake Wellingborough', 'Fayetteville Street', 'Raleigh',\n",
       "       'Hazelwood', 'Fairmont', 'Meredith Townes', 'Apex', 'Chapel Hill',\n",
       "       'Northwoods', 'Edgehill Farms', 'Tanglewood', 'Preston',\n",
       "       'Eastgate', 'East Elmhurst', 'Jackson Heights', 'Long Island City',\n",
       "       'Katunayaka', 'Unknown Location', 'Colombo', 'Nugegoda',\n",
       "       'Islamabad', 'Rawalpindi', 'Noorpur Shahan', 'Heritage Pines',\n",
       "       'Westpark Place', 'Waverly Place', 'Wayne Ridge', 'Weston',\n",
       "       'East Austin', 'West University', 'South Congress', 'The Drag',\n",
       "       'Congress Ave District', 'Red River District', 'Georgian Acres',\n",
       "       'North Austin', 'Coxville', 'Convention Center District', 'Austin',\n",
       "       'Katy', 'Sharpstown', 'Sugar Land', 'Galveston', 'Port Bolivar',\n",
       "       'Washington Avenue', 'Briar Meadow', 'Latta', 'Jacksonville',\n",
       "       'Couples Glen', 'Kissimmee', 'Lake Reams', 'Orlando',\n",
       "       'Sand Lake Commons', 'Sky Lake', 'Daytona Beach', 'Ridgeland',\n",
       "       'Florence', 'Meredith', 'Holly Springs', 'Chessington', 'Burtrose',\n",
       "       'Parkway', 'Mcvan', 'Capitol One', 'University District',\n",
       "       'Seattle', 'Redmond', 'Bellevue', 'San Francisco', 'Palo Alto',\n",
       "       'Sunnyvale', 'Newark', 'Menlo Park', 'Old City', 'Savon Height',\n",
       "       'Kilarney Woods', 'Townes at Everett Crossing', 'Huntington Woods',\n",
       "       'Seaport', 'Medical Centre', 'Rose Hill', 'Soho', 'Tribeca',\n",
       "       'Financial District', 'Oakland', 'Emeryville', 'Berkeley',\n",
       "       'Kenner', 'CBD', 'Lower Garden District', 'Lakeview', 'Storyville',\n",
       "       'New Orleans', 'Metairie', 'Chalmette', 'Arabi',\n",
       "       'Pontchartrain Shores', 'Marigny', 'Covington', 'Mandeville',\n",
       "       'Jamestown Court', 'Summerwinds', 'Parkwood',\n",
       "       'Pontchartrain Beach', 'St Thomas', 'Banner Elk', 'Elk Park',\n",
       "       'Newland', 'Boone', 'Stonewater', 'Lexington Park at Amberly',\n",
       "       'Arlington Park at Amberly', 'Arlington', 'Kalorama Triangle',\n",
       "       'K Street', 'West End', 'Connecticut Avenue', 'Columbia Heights',\n",
       "       'Washington', 'Wake Forest', 'Lahore', 'Karachi', 'SOMISSPO',\n",
       "       'West Berkeley', 'North Berkeley Hills', 'San Jose', 'Eagle Rock',\n",
       "       'Winston Salem', 'Asheville', 'Topton', 'Hayesville',\n",
       "       'Bryson City', 'Almond', 'Mebane', 'Agnew', 'Cory', 'Renaissance',\n",
       "       'Santa Clara', 'NOMA', 'Sunnyside', 'Ingleside', 'Central',\n",
       "       'Tenderloin', 'College Avenue', 'South', 'Southside',\n",
       "       'South Berkeley', 'Mountain View', 'El Cerrito', 'Krendle Woods',\n",
       "       'Wake Co.', 'Fuquay-Varina', 'Katunayake', 'Gampaha', nan],\n",
       "      dtype=object)"
      ]
     },
     "execution_count": 17,
     "metadata": {},
     "output_type": "execute_result"
    }
   ],
   "source": [
    "#Note: This question is based on the dataframe with 'NA' values i.e, uberdrive_df\n",
    "\n",
    "uberdrive_df[\"START*\"].unique()"
   ]
  },
  {
   "cell_type": "code",
   "execution_count": 18,
   "metadata": {},
   "outputs": [
    {
     "data": {
      "text/plain": [
       "175"
      ]
     },
     "execution_count": 18,
     "metadata": {},
     "output_type": "execute_result"
    }
   ],
   "source": [
    "# What is the total number of unique start destinations?\n",
    "# Note: Use the original dataframe without dropping 'NA' values i.e, nunique() is to get number of unique values.\n",
    "uberdrive_df[\"START*\"].nunique()"
   ]
  },
  {
   "cell_type": "code",
   "execution_count": 19,
   "metadata": {},
   "outputs": [
    {
     "data": {
      "text/plain": [
       "130"
      ]
     },
     "execution_count": 19,
     "metadata": {},
     "output_type": "execute_result"
    }
   ],
   "source": [
    "df[\"START*\"].nunique()"
   ]
  },
  {
   "cell_type": "markdown",
   "metadata": {},
   "source": [
    "# 4) Print the total number of unique stop destinations."
   ]
  },
  {
   "cell_type": "code",
   "execution_count": 20,
   "metadata": {},
   "outputs": [
    {
     "data": {
      "text/plain": [
       "186"
      ]
     },
     "execution_count": 20,
     "metadata": {},
     "output_type": "execute_result"
    }
   ],
   "source": [
    "# Note: Use the original dataframe without dropping 'NA' values.\n",
    "\n",
    "uberdrive_df['STOP*'].nunique()"
   ]
  },
  {
   "cell_type": "markdown",
   "metadata": {},
   "source": [
    "# 5) Print all the Uber trips that has the starting point of San Francisco."
   ]
  },
  {
   "cell_type": "code",
   "execution_count": 21,
   "metadata": {},
   "outputs": [
    {
     "data": {
      "text/html": [
       "<div>\n",
       "<style scoped>\n",
       "    .dataframe tbody tr th:only-of-type {\n",
       "        vertical-align: middle;\n",
       "    }\n",
       "\n",
       "    .dataframe tbody tr th {\n",
       "        vertical-align: top;\n",
       "    }\n",
       "\n",
       "    .dataframe thead th {\n",
       "        text-align: right;\n",
       "    }\n",
       "</style>\n",
       "<table border=\"1\" class=\"dataframe\">\n",
       "  <thead>\n",
       "    <tr style=\"text-align: right;\">\n",
       "      <th></th>\n",
       "      <th>START_DATE*</th>\n",
       "      <th>END_DATE*</th>\n",
       "      <th>CATEGORY*</th>\n",
       "      <th>START*</th>\n",
       "      <th>STOP*</th>\n",
       "      <th>MILES*</th>\n",
       "      <th>PURPOSE*</th>\n",
       "    </tr>\n",
       "  </thead>\n",
       "  <tbody>\n",
       "    <tr>\n",
       "      <th>362</th>\n",
       "      <td>05/09/2016 14:39</td>\n",
       "      <td>05/09/2016 15:06</td>\n",
       "      <td>Business</td>\n",
       "      <td>San Francisco</td>\n",
       "      <td>Palo Alto</td>\n",
       "      <td>20.5</td>\n",
       "      <td>Between Offices</td>\n",
       "    </tr>\n",
       "    <tr>\n",
       "      <th>440</th>\n",
       "      <td>6/14/2016 16:09</td>\n",
       "      <td>6/14/2016 16:39</td>\n",
       "      <td>Business</td>\n",
       "      <td>San Francisco</td>\n",
       "      <td>Emeryville</td>\n",
       "      <td>11.6</td>\n",
       "      <td>Meeting</td>\n",
       "    </tr>\n",
       "    <tr>\n",
       "      <th>836</th>\n",
       "      <td>10/19/2016 14:02</td>\n",
       "      <td>10/19/2016 14:31</td>\n",
       "      <td>Business</td>\n",
       "      <td>San Francisco</td>\n",
       "      <td>Berkeley</td>\n",
       "      <td>10.8</td>\n",
       "      <td>NaN</td>\n",
       "    </tr>\n",
       "    <tr>\n",
       "      <th>917</th>\n",
       "      <td>11/07/2016 19:17</td>\n",
       "      <td>11/07/2016 19:57</td>\n",
       "      <td>Business</td>\n",
       "      <td>San Francisco</td>\n",
       "      <td>Berkeley</td>\n",
       "      <td>13.2</td>\n",
       "      <td>Between Offices</td>\n",
       "    </tr>\n",
       "    <tr>\n",
       "      <th>919</th>\n",
       "      <td>11/08/2016 12:16</td>\n",
       "      <td>11/08/2016 12:49</td>\n",
       "      <td>Business</td>\n",
       "      <td>San Francisco</td>\n",
       "      <td>Berkeley</td>\n",
       "      <td>11.3</td>\n",
       "      <td>Meeting</td>\n",
       "    </tr>\n",
       "    <tr>\n",
       "      <th>927</th>\n",
       "      <td>11/09/2016 18:40</td>\n",
       "      <td>11/09/2016 19:17</td>\n",
       "      <td>Business</td>\n",
       "      <td>San Francisco</td>\n",
       "      <td>Oakland</td>\n",
       "      <td>12.7</td>\n",
       "      <td>Customer Visit</td>\n",
       "    </tr>\n",
       "    <tr>\n",
       "      <th>933</th>\n",
       "      <td>11/10/2016 15:17</td>\n",
       "      <td>11/10/2016 15:22</td>\n",
       "      <td>Business</td>\n",
       "      <td>San Francisco</td>\n",
       "      <td>Oakland</td>\n",
       "      <td>9.9</td>\n",
       "      <td>Temporary Site</td>\n",
       "    </tr>\n",
       "    <tr>\n",
       "      <th>966</th>\n",
       "      <td>11/15/2016 20:44</td>\n",
       "      <td>11/15/2016 21:00</td>\n",
       "      <td>Business</td>\n",
       "      <td>San Francisco</td>\n",
       "      <td>Berkeley</td>\n",
       "      <td>11.8</td>\n",
       "      <td>Temporary Site</td>\n",
       "    </tr>\n",
       "  </tbody>\n",
       "</table>\n",
       "</div>"
      ],
      "text/plain": [
       "          START_DATE*         END_DATE* CATEGORY*         START*       STOP*  \\\n",
       "362  05/09/2016 14:39  05/09/2016 15:06  Business  San Francisco   Palo Alto   \n",
       "440   6/14/2016 16:09   6/14/2016 16:39  Business  San Francisco  Emeryville   \n",
       "836  10/19/2016 14:02  10/19/2016 14:31  Business  San Francisco    Berkeley   \n",
       "917  11/07/2016 19:17  11/07/2016 19:57  Business  San Francisco    Berkeley   \n",
       "919  11/08/2016 12:16  11/08/2016 12:49  Business  San Francisco    Berkeley   \n",
       "927  11/09/2016 18:40  11/09/2016 19:17  Business  San Francisco     Oakland   \n",
       "933  11/10/2016 15:17  11/10/2016 15:22  Business  San Francisco     Oakland   \n",
       "966  11/15/2016 20:44  11/15/2016 21:00  Business  San Francisco    Berkeley   \n",
       "\n",
       "     MILES*         PURPOSE*  \n",
       "362    20.5  Between Offices  \n",
       "440    11.6          Meeting  \n",
       "836    10.8              NaN  \n",
       "917    13.2  Between Offices  \n",
       "919    11.3          Meeting  \n",
       "927    12.7   Customer Visit  \n",
       "933     9.9   Temporary Site  \n",
       "966    11.8   Temporary Site  "
      ]
     },
     "execution_count": 21,
     "metadata": {},
     "output_type": "execute_result"
    }
   ],
   "source": [
    "# Note: Use the original dataframe without dropping the 'NA' values.¶\n",
    "\n",
    "uberdrive_df[uberdrive_df['START*']=='San Francisco']\n",
    "#or uberdrive_df.loc[uberdrive_df['START*'] == 'San Francisco']"
   ]
  },
  {
   "cell_type": "markdown",
   "metadata": {},
   "source": [
    "# 6) What is the most popular starting point for the Uber drivers?"
   ]
  },
  {
   "cell_type": "code",
   "execution_count": 22,
   "metadata": {},
   "outputs": [
    {
     "data": {
      "text/html": [
       "<div>\n",
       "<style scoped>\n",
       "    .dataframe tbody tr th:only-of-type {\n",
       "        vertical-align: middle;\n",
       "    }\n",
       "\n",
       "    .dataframe tbody tr th {\n",
       "        vertical-align: top;\n",
       "    }\n",
       "\n",
       "    .dataframe thead th {\n",
       "        text-align: right;\n",
       "    }\n",
       "</style>\n",
       "<table border=\"1\" class=\"dataframe\">\n",
       "  <thead>\n",
       "    <tr style=\"text-align: right;\">\n",
       "      <th></th>\n",
       "      <th>Count</th>\n",
       "    </tr>\n",
       "  </thead>\n",
       "  <tbody>\n",
       "    <tr>\n",
       "      <th>Cary</th>\n",
       "      <td>201</td>\n",
       "    </tr>\n",
       "  </tbody>\n",
       "</table>\n",
       "</div>"
      ],
      "text/plain": [
       "      Count\n",
       "Cary    201"
      ]
     },
     "execution_count": 22,
     "metadata": {},
     "output_type": "execute_result"
    }
   ],
   "source": [
    "starting_point = pd.DataFrame(uberdrive_df['START*'].value_counts())\n",
    "position = starting_point.sort_values([\"START*\"], ascending = False)\n",
    "\n",
    "new_df= position.rename(columns = {'index' : 'starting_destination', 'START*': 'Count' })\n",
    "new_df.loc[new_df['Count'] == max(new_df['Count'])]"
   ]
  },
  {
   "cell_type": "markdown",
   "metadata": {},
   "source": [
    "# 7) What is the most popular dropping point for the Uber drivers?"
   ]
  },
  {
   "cell_type": "code",
   "execution_count": 23,
   "metadata": {},
   "outputs": [
    {
     "data": {
      "text/html": [
       "<div>\n",
       "<style scoped>\n",
       "    .dataframe tbody tr th:only-of-type {\n",
       "        vertical-align: middle;\n",
       "    }\n",
       "\n",
       "    .dataframe tbody tr th {\n",
       "        vertical-align: top;\n",
       "    }\n",
       "\n",
       "    .dataframe thead th {\n",
       "        text-align: right;\n",
       "    }\n",
       "</style>\n",
       "<table border=\"1\" class=\"dataframe\">\n",
       "  <thead>\n",
       "    <tr style=\"text-align: right;\">\n",
       "      <th></th>\n",
       "      <th>Count</th>\n",
       "    </tr>\n",
       "  </thead>\n",
       "  <tbody>\n",
       "    <tr>\n",
       "      <th>Cary</th>\n",
       "      <td>203</td>\n",
       "    </tr>\n",
       "  </tbody>\n",
       "</table>\n",
       "</div>"
      ],
      "text/plain": [
       "      Count\n",
       "Cary    203"
      ]
     },
     "execution_count": 23,
     "metadata": {},
     "output_type": "execute_result"
    }
   ],
   "source": [
    "starting_point = pd.DataFrame(uberdrive_df['STOP*'].value_counts())\n",
    "position = starting_point.sort_values([\"STOP*\"], ascending = False)\n",
    "\n",
    "new_df= position.rename(columns = {'index' : 'starting_destination', 'STOP*': 'Count' })\n",
    "new_df.loc[new_df['Count'] == max(new_df['Count'])]"
   ]
  },
  {
   "cell_type": "markdown",
   "metadata": {},
   "source": [
    "# 8) List the most frequent route taken by Uber drivers."
   ]
  },
  {
   "cell_type": "code",
   "execution_count": 24,
   "metadata": {},
   "outputs": [
    {
     "data": {
      "text/html": [
       "<div>\n",
       "<style scoped>\n",
       "    .dataframe tbody tr th:only-of-type {\n",
       "        vertical-align: middle;\n",
       "    }\n",
       "\n",
       "    .dataframe tbody tr th {\n",
       "        vertical-align: top;\n",
       "    }\n",
       "\n",
       "    .dataframe thead th {\n",
       "        text-align: right;\n",
       "    }\n",
       "</style>\n",
       "<table border=\"1\" class=\"dataframe\">\n",
       "  <thead>\n",
       "    <tr style=\"text-align: right;\">\n",
       "      <th></th>\n",
       "      <th></th>\n",
       "      <th>Count</th>\n",
       "    </tr>\n",
       "    <tr>\n",
       "      <th>START*</th>\n",
       "      <th>STOP*</th>\n",
       "      <th></th>\n",
       "    </tr>\n",
       "  </thead>\n",
       "  <tbody>\n",
       "    <tr>\n",
       "      <th>Cary</th>\n",
       "      <th>Morrisville</th>\n",
       "      <td>52</td>\n",
       "    </tr>\n",
       "  </tbody>\n",
       "</table>\n",
       "</div>"
      ],
      "text/plain": [
       "                    Count\n",
       "START* STOP*             \n",
       "Cary   Morrisville     52"
      ]
     },
     "execution_count": 24,
     "metadata": {},
     "output_type": "execute_result"
    }
   ],
   "source": [
    "# This question is based on the new dataframe with no 'na' values\n",
    "\n",
    "route = pd.DataFrame(df.groupby(['START*', 'STOP*']).size())\n",
    "route = route.rename(columns = {0:'Count'})\n",
    "route = route.sort_values(['Count'], ascending = False)\n",
    "route.loc[route['Count'] == max(route['Count'])]"
   ]
  },
  {
   "cell_type": "markdown",
   "metadata": {},
   "source": [
    "# 9) Print all types of purposes for the trip in an array."
   ]
  },
  {
   "cell_type": "code",
   "execution_count": 25,
   "metadata": {
    "scrolled": true
   },
   "outputs": [
    {
     "data": {
      "text/html": [
       "<div>\n",
       "<style scoped>\n",
       "    .dataframe tbody tr th:only-of-type {\n",
       "        vertical-align: middle;\n",
       "    }\n",
       "\n",
       "    .dataframe tbody tr th {\n",
       "        vertical-align: top;\n",
       "    }\n",
       "\n",
       "    .dataframe thead th {\n",
       "        text-align: right;\n",
       "    }\n",
       "</style>\n",
       "<table border=\"1\" class=\"dataframe\">\n",
       "  <thead>\n",
       "    <tr style=\"text-align: right;\">\n",
       "      <th></th>\n",
       "      <th>MILES*</th>\n",
       "    </tr>\n",
       "    <tr>\n",
       "      <th>PURPOSE*</th>\n",
       "      <th></th>\n",
       "    </tr>\n",
       "  </thead>\n",
       "  <tbody>\n",
       "    <tr>\n",
       "      <th>Airport/Travel</th>\n",
       "      <td>16.5</td>\n",
       "    </tr>\n",
       "    <tr>\n",
       "      <th>Between Offices</th>\n",
       "      <td>197.0</td>\n",
       "    </tr>\n",
       "    <tr>\n",
       "      <th>Charity ($)</th>\n",
       "      <td>15.1</td>\n",
       "    </tr>\n",
       "    <tr>\n",
       "      <th>Commute</th>\n",
       "      <td>180.2</td>\n",
       "    </tr>\n",
       "    <tr>\n",
       "      <th>Customer Visit</th>\n",
       "      <td>2089.5</td>\n",
       "    </tr>\n",
       "    <tr>\n",
       "      <th>Errand/Supplies</th>\n",
       "      <td>508.0</td>\n",
       "    </tr>\n",
       "    <tr>\n",
       "      <th>Meal/Entertain</th>\n",
       "      <td>911.7</td>\n",
       "    </tr>\n",
       "    <tr>\n",
       "      <th>Meeting</th>\n",
       "      <td>2851.3</td>\n",
       "    </tr>\n",
       "    <tr>\n",
       "      <th>Moving</th>\n",
       "      <td>18.2</td>\n",
       "    </tr>\n",
       "    <tr>\n",
       "      <th>Temporary Site</th>\n",
       "      <td>523.7</td>\n",
       "    </tr>\n",
       "  </tbody>\n",
       "</table>\n",
       "</div>"
      ],
      "text/plain": [
       "                 MILES*\n",
       "PURPOSE*               \n",
       "Airport/Travel     16.5\n",
       "Between Offices   197.0\n",
       "Charity ($)        15.1\n",
       "Commute           180.2\n",
       "Customer Visit   2089.5\n",
       "Errand/Supplies   508.0\n",
       "Meal/Entertain    911.7\n",
       "Meeting          2851.3\n",
       "Moving             18.2\n",
       "Temporary Site    523.7"
      ]
     },
     "execution_count": 25,
     "metadata": {},
     "output_type": "execute_result"
    }
   ],
   "source": [
    "# This question is based on the new dataframe with no 'NA' values\n",
    "\n",
    "purpose = pd.DataFrame(np.array(df['PURPOSE*'].unique()))\n",
    "pd.DataFrame(df['MILES*'].groupby(df['PURPOSE*']).sum())"
   ]
  },
  {
   "cell_type": "markdown",
   "metadata": {},
   "source": [
    "# 10) Plot a bar graph of Purpose vs Miles(Distance)."
   ]
  },
  {
   "cell_type": "code",
   "execution_count": 29,
   "metadata": {},
   "outputs": [
    {
     "data": {
      "text/plain": [
       "(array([0, 1, 2, 3, 4, 5, 6, 7, 8, 9]),\n",
       " [Text(0, 0, 'Meeting'),\n",
       "  Text(1, 0, 'Customer Visit'),\n",
       "  Text(2, 0, 'Meal/Entertain'),\n",
       "  Text(3, 0, 'Temporary Site'),\n",
       "  Text(4, 0, 'Errand/Supplies'),\n",
       "  Text(5, 0, 'Between Offices'),\n",
       "  Text(6, 0, 'Commute'),\n",
       "  Text(7, 0, 'Moving'),\n",
       "  Text(8, 0, 'Airport/Travel'),\n",
       "  Text(9, 0, 'Charity ($)')])"
      ]
     },
     "execution_count": 29,
     "metadata": {},
     "output_type": "execute_result"
    },
    {
     "data": {
      "image/png": "[encoded data removed]",
      "text/plain": [
       "<Figure size 432x288 with 1 Axes>"
      ]
     },
     "metadata": {
      "needs_background": "light"
     },
     "output_type": "display_data"
    }
   ],
   "source": [
    "# Use the original dataframe without dropping the 'NA' values \n",
    "\n",
    "k3 = uberdrive_df.groupby('PURPOSE*')['MILES*'].sum().sort_values(ascending=False).head(10) \n",
    "k3\n",
    "k3= k3.reset_index() # flatten the dataframe \n",
    "k3\n",
    "k3.columns = ['PURPOSE*' ,'sum_of_miles']\n",
    "k3\n",
    "%matplotlib inline \n",
    "import seaborn as sns\n",
    "sns.barplot(data= k3 , x= 'PURPOSE*' , y ='sum_of_miles')\n",
    "plt.xticks(rotation=90)"
   ]
  },
  {
   "cell_type": "code",
   "execution_count": 30,
   "metadata": {},
   "outputs": [
    {
     "data": {
      "image/png": "[encoded data removed]",
      "text/plain": [
       "<Figure size 432x288 with 1 Axes>"
      ]
     },
     "metadata": {
      "needs_background": "light"
     },
     "output_type": "display_data"
    }
   ],
   "source": [
    "#another way\n",
    "visual_df = pd.DataFrame(uberdrive_df['MILES*'].groupby(uberdrive_df['PURPOSE*']).sum())\n",
    "visual_df .plot(kind = 'bar')\n",
    "plt.show()"
   ]
  },
  {
   "cell_type": "code",
   "execution_count": 31,
   "metadata": {},
   "outputs": [
    {
     "data": {
      "text/plain": [
       "<AxesSubplot:xlabel='MILES*', ylabel='PURPOSE*'>"
      ]
     },
     "execution_count": 31,
     "metadata": {},
     "output_type": "execute_result"
    },
    {
     "data": {
      "image/png": "[encoded data removed]",
      "text/plain": [
       "<Figure size 432x288 with 1 Axes>"
      ]
     },
     "metadata": {
      "needs_background": "light"
     },
     "output_type": "display_data"
    }
   ],
   "source": [
    "#another way\n",
    "visual_df =  visual_df.reset_index()\n",
    "sns.barplot(x = visual_df['MILES*'], y = visual_df['PURPOSE*'])"
   ]
  },
  {
   "cell_type": "markdown",
   "metadata": {},
   "source": [
    "# 11) Print a dataframe of Purposes and the distance travelled for that particular Purpose."
   ]
  },
  {
   "cell_type": "code",
   "execution_count": 35,
   "metadata": {
    "scrolled": true
   },
   "outputs": [
    {
     "data": {
      "text/html": [
       "<div>\n",
       "<style scoped>\n",
       "    .dataframe tbody tr th:only-of-type {\n",
       "        vertical-align: middle;\n",
       "    }\n",
       "\n",
       "    .dataframe tbody tr th {\n",
       "        vertical-align: top;\n",
       "    }\n",
       "\n",
       "    .dataframe thead th {\n",
       "        text-align: right;\n",
       "    }\n",
       "</style>\n",
       "<table border=\"1\" class=\"dataframe\">\n",
       "  <thead>\n",
       "    <tr style=\"text-align: right;\">\n",
       "      <th></th>\n",
       "      <th>MILES*</th>\n",
       "    </tr>\n",
       "    <tr>\n",
       "      <th>PURPOSE*</th>\n",
       "      <th></th>\n",
       "    </tr>\n",
       "  </thead>\n",
       "  <tbody>\n",
       "    <tr>\n",
       "      <th>Meeting</th>\n",
       "      <td>2851.3</td>\n",
       "    </tr>\n",
       "    <tr>\n",
       "      <th>Customer Visit</th>\n",
       "      <td>2089.5</td>\n",
       "    </tr>\n",
       "    <tr>\n",
       "      <th>Meal/Entertain</th>\n",
       "      <td>911.7</td>\n",
       "    </tr>\n",
       "    <tr>\n",
       "      <th>Temporary Site</th>\n",
       "      <td>523.7</td>\n",
       "    </tr>\n",
       "    <tr>\n",
       "      <th>Errand/Supplies</th>\n",
       "      <td>508.0</td>\n",
       "    </tr>\n",
       "    <tr>\n",
       "      <th>Between Offices</th>\n",
       "      <td>197.0</td>\n",
       "    </tr>\n",
       "    <tr>\n",
       "      <th>Commute</th>\n",
       "      <td>180.2</td>\n",
       "    </tr>\n",
       "    <tr>\n",
       "      <th>Moving</th>\n",
       "      <td>18.2</td>\n",
       "    </tr>\n",
       "    <tr>\n",
       "      <th>Airport/Travel</th>\n",
       "      <td>16.5</td>\n",
       "    </tr>\n",
       "    <tr>\n",
       "      <th>Charity ($)</th>\n",
       "      <td>15.1</td>\n",
       "    </tr>\n",
       "  </tbody>\n",
       "</table>\n",
       "</div>"
      ],
      "text/plain": [
       "                 MILES*\n",
       "PURPOSE*               \n",
       "Meeting          2851.3\n",
       "Customer Visit   2089.5\n",
       "Meal/Entertain    911.7\n",
       "Temporary Site    523.7\n",
       "Errand/Supplies   508.0\n",
       "Between Offices   197.0\n",
       "Commute           180.2\n",
       "Moving             18.2\n",
       "Airport/Travel     16.5\n",
       "Charity ($)        15.1"
      ]
     },
     "execution_count": 35,
     "metadata": {},
     "output_type": "execute_result"
    }
   ],
   "source": [
    "# Use the original dataframe without dropping \"NA\" values\n",
    "\n",
    " #How many miles was earned per  purpose ?\n",
    "pd.DataFrame(uberdrive_df.groupby('PURPOSE*').sum()['MILES*'].sort_values(ascending = False))"
   ]
  },
  {
   "cell_type": "markdown",
   "metadata": {},
   "source": [
    "# 12) Plot number of trips vs Category of trips."
   ]
  },
  {
   "cell_type": "code",
   "execution_count": 38,
   "metadata": {},
   "outputs": [
    {
     "data": {
      "text/plain": [
       "<AxesSubplot:xlabel='CATEGORY*', ylabel='count'>"
      ]
     },
     "execution_count": 38,
     "metadata": {},
     "output_type": "execute_result"
    },
    {
     "data": {
      "image/png": "[encoded data removed]",
      "text/plain": [
       "<Figure size 432x288 with 1 Axes>"
      ]
     },
     "metadata": {
      "needs_background": "light"
     },
     "output_type": "display_data"
    }
   ],
   "source": [
    "#Use the original dataframe without dropping the 'NA' values\n",
    "\n",
    "uberdrive_df['CATEGORY*'].value_counts()\n",
    "sns.countplot(x=uberdrive_df['CATEGORY*'])"
   ]
  },
  {
   "cell_type": "code",
   "execution_count": 39,
   "metadata": {},
   "outputs": [
    {
     "data": {
      "image/png": "[encoded data removed]",
      "text/plain": [
       "<Figure size 432x288 with 1 Axes>"
      ]
     },
     "metadata": {
      "needs_background": "light"
     },
     "output_type": "display_data"
    },
    {
     "data": {
      "text/html": [
       "<div>\n",
       "<style scoped>\n",
       "    .dataframe tbody tr th:only-of-type {\n",
       "        vertical-align: middle;\n",
       "    }\n",
       "\n",
       "    .dataframe tbody tr th {\n",
       "        vertical-align: top;\n",
       "    }\n",
       "\n",
       "    .dataframe thead th {\n",
       "        text-align: right;\n",
       "    }\n",
       "</style>\n",
       "<table border=\"1\" class=\"dataframe\">\n",
       "  <thead>\n",
       "    <tr style=\"text-align: right;\">\n",
       "      <th></th>\n",
       "      <th>CATEGORY*</th>\n",
       "    </tr>\n",
       "  </thead>\n",
       "  <tbody>\n",
       "    <tr>\n",
       "      <th>Business</th>\n",
       "      <td>1078</td>\n",
       "    </tr>\n",
       "    <tr>\n",
       "      <th>Personal</th>\n",
       "      <td>77</td>\n",
       "    </tr>\n",
       "  </tbody>\n",
       "</table>\n",
       "</div>"
      ],
      "text/plain": [
       "          CATEGORY*\n",
       "Business       1078\n",
       "Personal         77"
      ]
     },
     "execution_count": 39,
     "metadata": {},
     "output_type": "execute_result"
    }
   ],
   "source": [
    "#another way\n",
    "uberdrive_df.head()\n",
    "\n",
    "visual_df2 = pd.DataFrame(uberdrive_df['CATEGORY*'].value_counts())\n",
    "visual_df2.reset_index()\n",
    "\n",
    "visual_df2.plot(kind = 'bar')\n",
    "plt.show()\n",
    "visual_df2"
   ]
  },
  {
   "cell_type": "markdown",
   "metadata": {},
   "source": [
    "# What is proportion of trips that is Business and what is the proportion of trips that is Personal?"
   ]
  },
  {
   "cell_type": "code",
   "execution_count": 40,
   "metadata": {},
   "outputs": [
    {
     "data": {
      "text/plain": [
       "CATEGORY*\n",
       "Business    11487.0\n",
       "Personal      717.7\n",
       "Name: MILES*, dtype: float64"
      ]
     },
     "execution_count": 40,
     "metadata": {},
     "output_type": "execute_result"
    }
   ],
   "source": [
    "#The proportion calculation is with respect to the 'miles' variable.\n",
    "#Note: This question is based on the original dataframe.\n",
    "\n",
    "#How many miles was earned per category and purpose ?\n",
    "uberdrive_df.groupby('CATEGORY*').sum()['MILES*'].sort_values(ascending = False)"
   ]
  },
  {
   "cell_type": "code",
   "execution_count": 41,
   "metadata": {},
   "outputs": [
    {
     "data": {
      "text/html": [
       "<div>\n",
       "<style scoped>\n",
       "    .dataframe tbody tr th:only-of-type {\n",
       "        vertical-align: middle;\n",
       "    }\n",
       "\n",
       "    .dataframe tbody tr th {\n",
       "        vertical-align: top;\n",
       "    }\n",
       "\n",
       "    .dataframe thead th {\n",
       "        text-align: right;\n",
       "    }\n",
       "</style>\n",
       "<table border=\"1\" class=\"dataframe\">\n",
       "  <thead>\n",
       "    <tr style=\"text-align: right;\">\n",
       "      <th></th>\n",
       "      <th>MILES*</th>\n",
       "    </tr>\n",
       "    <tr>\n",
       "      <th>CATEGORY*</th>\n",
       "      <th></th>\n",
       "    </tr>\n",
       "  </thead>\n",
       "  <tbody>\n",
       "    <tr>\n",
       "      <th>Business</th>\n",
       "      <td>94.119479</td>\n",
       "    </tr>\n",
       "    <tr>\n",
       "      <th>Personal</th>\n",
       "      <td>5.880521</td>\n",
       "    </tr>\n",
       "  </tbody>\n",
       "</table>\n",
       "</div>"
      ],
      "text/plain": [
       "              MILES*\n",
       "CATEGORY*           \n",
       "Business   94.119479\n",
       "Personal    5.880521"
      ]
     },
     "execution_count": 41,
     "metadata": {},
     "output_type": "execute_result"
    }
   ],
   "source": [
    "#What is percentage of business miles vs personal?\n",
    "uberdrive_df_cat_df = uberdrive_df.groupby('CATEGORY*').agg({'MILES*':'sum'})\n",
    "uberdrive_df_cat_df\n",
    "uberdrive_df_cat_df.apply(lambda x: x/x.sum()*100).rename(columns = {'MILES':'% of Miles'})"
   ]
  },
  {
   "cell_type": "markdown",
   "metadata": {},
   "source": [
    "## Findings Summary\n",
    "\n",
    "My analysis reveals some important behavioral differences between Business and Personal rides by Uber which are as follows : \n",
    "\n",
    "- The data set has 507 null values. \n",
    "- Business rides are more than personal rides by Uber Drivers (Business rides miles- 11487 as compared to personal - 718)\n",
    "- Average ride length is 6.4 Miles\n",
    "- Most popular starting point and ending point is Cary with 203 rides. \n",
    "- Top 3 purposes for which rides have been taken - 1) Meetings 2) Customer Visit 3) Meal/Entertainment\n"
   ]
  },
  {
   "cell_type": "code",
   "execution_count": null,
   "metadata": {},
   "outputs": [],
   "source": []
  }
 ],
 "metadata": {
  "kernelspec": {
   "display_name": "Python 3",
   "language": "python",
   "name": "python3"
  },
  "language_info": {
   "codemirror_mode": {
    "name": "ipython",
    "version": 3
   },
   "file_extension": ".py",
   "mimetype": "text/x-python",
   "name": "python",
   "nbconvert_exporter": "python",
   "pygments_lexer": "ipython3",
   "version": "3.8.5"
  }
 },
 "nbformat": 4,
 "nbformat_minor": 4
}
